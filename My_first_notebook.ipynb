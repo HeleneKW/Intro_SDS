{
 "cells": [
  {
   "cell_type": "markdown",
   "metadata": {},
   "source": [
    "> In all assignments you will be solving exercises posted in a Jupyter notebook that looks like this one. \n"
   ]
  },
  {
   "cell_type": "markdown",
   "metadata": {},
   "source": [
    "## Getting started\n",
    "\n",
    "This notebooks helps you to learn to do minor operations in basic python. Along the way we will point to additional resources if you want the material presented in a different manner.\n",
    "\n",
    "A very good (but perhaps slightly confusing) approach to learning anything programming related is to simply search google whenever you have a question, or cannot get your code to run. In 99% of the cases the first or second result will contain an answer to your question, and this saves you the time required to look for the right pages in a book, or the right tutorial on some website.\n",
    "\n",
    "#### Firts things first\n",
    "We begin with a short overview of what Python is and is not. Run the cell to show the video. If the video does not run, open the link [here](https://youtu.be/kaSz6n9ePik).\n"
   ]
  },
  {
   "cell_type": "code",
   "execution_count": null,
   "metadata": {},
   "outputs": [],
   "source": [
    "from IPython.display import YouTubeVideo\n",
    "YouTubeVideo('kaSz6n9ePik', width=640, height=360)"
   ]
  },
  {
   "cell_type": "markdown",
   "metadata": {},
   "source": [
    "#### Jupyter\n",
    "In this course we Jupyter for working with Python as it provides a clean interface and makes it easy to iterate on working with data. Again, run the cell to show the video. If the video does not run open the link [here](https://youtu.be/0U0MYrPLuI4)."
   ]
  },
  {
   "cell_type": "code",
   "execution_count": null,
   "metadata": {},
   "outputs": [],
   "source": [
    "YouTubeVideo('0U0MYrPLuI4', width=640, height=360)"
   ]
  },
  {
   "cell_type": "markdown",
   "metadata": {},
   "source": [
    "### **<font color=\"red\">STOP! X#@</font>**\n",
    "\n",
    "#### Checklist on Jupyter\n",
    "\n",
    "\n",
    "Before you move on from here part make sure that you :\n",
    "- Can execute a cell - check that the video loads and runs above\n",
    "- Can edit a cell\n",
    "- Add and remove cells\n"
   ]
  },
  {
   "cell_type": "markdown",
   "metadata": {},
   "source": [
    "\n",
    "#### Overview of Python content in this notebook\n",
    "In this integrated assignment and teaching module, we will learn the following things about basic Python:\n",
    "- Fundamental data types: numeric, string and boolean\n",
    "\n",
    "*Additional sources*: You may find that the explainations here are insufficient. You can check out the reading list for the course (until the 2021-version of the course site is up and fully updated, consider the 2020 edition [here](https://abjer.github.io/isds2020/page/readings/)). \n",
    "\n",
    "Alternatively, if you don't like that material, we suggest you try one of the three different resources for learning Python that you can use to learn the necessary skills for answering the questions. \n",
    "\n",
    "- Videos: [pythonprogramming.net fundamental](https://pythonprogramming.net/python-fundamental-tutorials/) (basics and intermediate)\n",
    "\n",
    "- A tutorial website: [The official python 3 tutorial](https://docs.python.org/3/tutorial/introduction.html) (sections 3, 4 and 5)\n",
    "\n",
    "- A book: [learn python the hard way](https://learnpythonthehardway.org/) \n",
    "\n",
    "You are free to pick from either of the above, or find your own ressources online."
   ]
  },
  {
   "cell_type": "markdown",
   "metadata": {
    "slideshow": {
     "slide_type": "slide"
    }
   },
   "source": [
    "# 0.1 Fundamentals of Python\n"
   ]
  },
  {
   "cell_type": "markdown",
   "metadata": {
    "slideshow": {
     "slide_type": "slide"
    }
   },
   "source": [
    "## Numeric Operators"
   ]
  },
  {
   "cell_type": "markdown",
   "metadata": {
    "slideshow": {
     "slide_type": "slide"
    }
   },
   "source": [
    "*What numeric computations can python do?*\n",
    "\n",
    "An operator in Python manipulates various data types."
   ]
  },
  {
   "cell_type": "markdown",
   "metadata": {
    "slideshow": {
     "slide_type": "fragment"
    }
   },
   "source": [
    "We have seen addition `+`. Other basic numeric operators:\n",
    "- multiplication `*`;\n",
    "- subtraction `-`; \n",
    "- division `/`;\n",
    "- power, `**` \n",
    "\n",
    "Try executing the code below. Explain in words what the expression does."
   ]
  },
  {
   "cell_type": "code",
   "execution_count": 12,
   "metadata": {},
   "outputs": [
    {
     "data": {
      "text/plain": [
       "4"
      ]
     },
     "execution_count": 12,
     "metadata": {},
     "output_type": "execute_result"
    }
   ],
   "source": [
    "2+2"
   ]
  },
  {
   "cell_type": "markdown",
   "metadata": {},
   "source": [
    "Now you try subtraction below: "
   ]
  },
  {
   "cell_type": "code",
   "execution_count": null,
   "metadata": {},
   "outputs": [],
   "source": [
    "# Your answer here"
   ]
  },
  {
   "cell_type": "markdown",
   "metadata": {},
   "source": [
    "And try multiplication: "
   ]
  },
  {
   "cell_type": "code",
   "execution_count": null,
   "metadata": {},
   "outputs": [],
   "source": [
    "# Your answer here"
   ]
  },
  {
   "cell_type": "markdown",
   "metadata": {},
   "source": [
    "And try to raise 2 to the power of 4"
   ]
  },
  {
   "cell_type": "code",
   "execution_count": 11,
   "metadata": {
    "scrolled": true
   },
   "outputs": [
    {
     "data": {
      "text/plain": [
       "16"
      ]
     },
     "execution_count": 11,
     "metadata": {},
     "output_type": "execute_result"
    }
   ],
   "source": [
    "# Your answer here"
   ]
  },
  {
   "cell_type": "markdown",
   "metadata": {},
   "source": [
    "## Elementary Data Types\n",
    "*Can you give me an example of what data python is working with?*\n",
    "\n",
    "Watch the video below to get an explanation."
   ]
  },
  {
   "cell_type": "code",
   "execution_count": null,
   "metadata": {},
   "outputs": [],
   "source": [
    "YouTubeVideo('r7IvHf0Rz4c', width=640, height=360)"
   ]
  },
  {
   "cell_type": "markdown",
   "metadata": {
    "slideshow": {
     "slide_type": "fragment"
    }
   },
   "source": [
    "#### Examples with data types\n",
    "Execute the cell below to create a variable `A` as a float equal to 1.5:"
   ]
  },
  {
   "cell_type": "code",
   "execution_count": 1,
   "metadata": {
    "slideshow": {
     "slide_type": "-"
    }
   },
   "outputs": [],
   "source": [
    "A = 1.5"
   ]
  },
  {
   "cell_type": "markdown",
   "metadata": {
    "slideshow": {
     "slide_type": "fragment"
    }
   },
   "source": [
    "Execute the cell below to convert the variable `A` to an integer by typing: "
   ]
  },
  {
   "cell_type": "code",
   "execution_count": 2,
   "metadata": {
    "slideshow": {
     "slide_type": "-"
    }
   },
   "outputs": [
    {
     "data": {
      "text/plain": [
       "1"
      ]
     },
     "execution_count": 2,
     "metadata": {},
     "output_type": "execute_result"
    }
   ],
   "source": [
    "int(A) # rounds down, i.e. floor "
   ]
  },
  {
   "cell_type": "markdown",
   "metadata": {
    "slideshow": {
     "slide_type": "slide"
    }
   },
   "source": [
    "## Printing Stuff\n",
    "\n",
    "An essential procedure in Python is `print`. First we print the A from above, and then we try with some text: Note how we put text in '':"
   ]
  },
  {
   "cell_type": "code",
   "execution_count": 7,
   "metadata": {},
   "outputs": [
    {
     "name": "stdout",
     "output_type": "stream",
     "text": [
      "1.5\n"
     ]
    }
   ],
   "source": [
    "print(A)"
   ]
  },
  {
   "cell_type": "code",
   "execution_count": 5,
   "metadata": {
    "slideshow": {
     "slide_type": "fragment"
    }
   },
   "outputs": [
    {
     "name": "stdout",
     "output_type": "stream",
     "text": [
      "I can do in Python, whatever I want\n"
     ]
    }
   ],
   "source": [
    "my_str = 'I can do in Python, whatever I want' # define a string of text\n",
    "print(my_str) # print it"
   ]
  },
  {
   "cell_type": "markdown",
   "metadata": {
    "slideshow": {
     "slide_type": "slide"
    }
   },
   "source": [
    "We can also print several objects at the same time. Try it!"
   ]
  },
  {
   "cell_type": "code",
   "execution_count": 8,
   "metadata": {
    "slideshow": {
     "slide_type": "fragment"
    }
   },
   "outputs": [
    {
     "name": "stdout",
     "output_type": "stream",
     "text": [
      "33 2\n"
     ]
    }
   ],
   "source": [
    "my_var1 = 33\n",
    "my_var2 = 2\n",
    "print(my_var1, my_var2)"
   ]
  },
  {
   "cell_type": "markdown",
   "metadata": {
    "slideshow": {
     "slide_type": "fragment"
    }
   },
   "source": [
    "*Why do we print?*\n",
    "- It allows us to inspect values\n",
    "    - For instance when trying to understand why a piece of code does not give us what we expect (i.e. debugging)\n",
    "- In particular helpful when inspecting intermediate output (within a function, loops etc.).\n"
   ]
  },
  {
   "cell_type": "markdown",
   "metadata": {
    "slideshow": {
     "slide_type": "slide"
    }
   },
   "source": [
    "## Debugging \n",
    "\n",
    "*What happens if my code has errors?*\n",
    "- Either you fix it or you're in trouble. See below on how we handle them.\n"
   ]
  },
  {
   "cell_type": "markdown",
   "metadata": {
    "slideshow": {
     "slide_type": "fragment"
    }
   },
   "source": [
    "Try executing the following code block that we have already tried to execute once:"
   ]
  },
  {
   "cell_type": "code",
   "execution_count": 10,
   "metadata": {
    "slideshow": {
     "slide_type": "-"
    }
   },
   "outputs": [
    {
     "ename": "ValueError",
     "evalue": "could not convert string to float: 'B'",
     "output_type": "error",
     "traceback": [
      "\u001b[1;31m---------------------------------------------------------------------------\u001b[0m",
      "\u001b[1;31mValueError\u001b[0m                                Traceback (most recent call last)",
      "\u001b[1;32m<ipython-input-10-94976f16d91b>\u001b[0m in \u001b[0;36m<module>\u001b[1;34m\u001b[0m\n\u001b[1;32m----> 1\u001b[1;33m \u001b[0mfloat\u001b[0m\u001b[1;33m(\u001b[0m\u001b[1;34m'B'\u001b[0m\u001b[1;33m)\u001b[0m\u001b[1;33m\u001b[0m\u001b[1;33m\u001b[0m\u001b[0m\n\u001b[0m",
      "\u001b[1;31mValueError\u001b[0m: could not convert string to float: 'B'"
     ]
    }
   ],
   "source": [
    "float('B')"
   ]
  },
  {
   "cell_type": "markdown",
   "metadata": {},
   "source": [
    "*What does the error message mean?*\n",
    "\n",
    "See the video below for an interpretation of the problem and how to fix it."
   ]
  },
  {
   "cell_type": "code",
   "execution_count": null,
   "metadata": {},
   "outputs": [],
   "source": [
    "YouTubeVideo('wEjO-0rx0c0', width=640, height=360)    "
   ]
  },
  {
   "cell_type": "markdown",
   "metadata": {},
   "source": [
    "## Time to install a package in anaconda, such that we can get ready for the next exercise! "
   ]
  },
  {
   "cell_type": "markdown",
   "metadata": {},
   "source": [
    "To know core Python is powerful in itself, but the great potentials lie in the huge community of developers and researchers contributing to a shared pool of software packages. A programming language is as powerful as the community that surrounds it. Especially in the field of machine learning, the Python community is leading the way, allowing you to share code with top researchers from the field and industry, among others Google’s top engineering teams. Tapping into these vast resources is made easy by the Conda distribution and the pip package manager. Just open your shell/command-line/terminal and type the following: conda install [name of package]\n",
    "\n",
    "or if conda does not support it directly use the more generic package manager: pip install [name of package]"
   ]
  },
  {
   "cell_type": "code",
   "execution_count": null,
   "metadata": {},
   "outputs": [],
   "source": []
  }
 ],
 "metadata": {
  "kernelspec": {
   "display_name": "Python 3",
   "language": "python",
   "name": "python3"
  },
  "language_info": {
   "codemirror_mode": {
    "name": "ipython",
    "version": 3
   },
   "file_extension": ".py",
   "mimetype": "text/x-python",
   "name": "python",
   "nbconvert_exporter": "python",
   "pygments_lexer": "ipython3",
   "version": "3.8.5"
  }
 },
 "nbformat": 4,
 "nbformat_minor": 4
}
