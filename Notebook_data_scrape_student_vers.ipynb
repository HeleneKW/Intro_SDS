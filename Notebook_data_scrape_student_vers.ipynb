{
 "cells": [
  {
   "cell_type": "markdown",
   "metadata": {},
   "source": [
    "To be able to run this program, we need to install the wordcloud package. You install this by going to the anaconda prompt and write >> conda install [package name]\n",
    "\n",
    "You need to reopen everything once you did that! "
   ]
  },
  {
   "cell_type": "markdown",
   "metadata": {},
   "source": [
    "First, lets celebrate the installation by running cell below"
   ]
  },
  {
   "cell_type": "code",
   "execution_count": null,
   "metadata": {},
   "outputs": [],
   "source": [
    "from IPython.display import YouTubeVideo\n",
    "YouTubeVideo('LDZX4ooRsWs', width=640, height=360)"
   ]
  },
  {
   "cell_type": "code",
   "execution_count": null,
   "metadata": {},
   "outputs": [],
   "source": [
    "import pandas as pd\n",
    "import requests\n",
    "import time \n",
    "import tqdm\n",
    "from bs4 import BeautifulSoup  \n",
    "from wordcloud import WordCloud, STOPWORDS # Need an install! \n",
    "import matplotlib.pyplot as plt\n",
    "import seaborn as sns\n",
    "\n",
    "%matplotlib inline"
   ]
  },
  {
   "cell_type": "markdown",
   "metadata": {},
   "source": [
    "### The code below is pretty advanced, so you don't need to understand it. What it basically does is it calls a website and asks for data. \n",
    "### Question for you: What is the website?\n",
    "(click on the cell below and write the website)."
   ]
  },
  {
   "cell_type": "markdown",
   "metadata": {},
   "source": [
    "Write your answer here: "
   ]
  },
  {
   "cell_type": "markdown",
   "metadata": {},
   "source": [
    "\n",
    "### Having called the website we get the data in a file format called .json, which we transform into a more readable data format using the package \"BeautifulSoup\" which can read HTML data. \n",
    "\n",
    "### Now you need to run the cell below: Do you already know the keyboard Shortcut to make a cell run? \n",
    "If no: Use Google to find the answer, and try using that instead of clicking run "
   ]
  },
  {
   "cell_type": "markdown",
   "metadata": {},
   "source": [
    "### Exercise\n",
    "In the cell below, the first function is called \"make_query\" and takes the arguments: query_term, page_num, iter_ and wait\n",
    "where the 3 last ones a defined straight away. In the end it returns \"response\".  \n",
    "\n",
    "In line 19 (cell below), you need to define the function \"check_response\" which takes the argument: response.  \n",
    "In line 26 (cell below), you state that the function returns response_d\n",
    "\n",
    "IN line 87, in the very last function, you need to ask the function to return data \n",
    "\n",
    "<font color=\"orange\"> Beware that indentation matters! </font>\n",
    "\n"
   ]
  },
  {
   "cell_type": "code",
   "execution_count": null,
   "metadata": {},
   "outputs": [],
   "source": [
    "##########################################################################################################\n",
    "# Code for scraping ######################################################################################\n",
    "##########################################################################################################\n",
    "\n",
    "def make_query(query_term,page_num=1,iter_=5,wait=0.5):\n",
    "   ## Add iterations for reliability in case of standard http errors\n",
    "    response = False\n",
    "    time.sleep(wait)\n",
    "    for i in range(iter_):\n",
    "        try:\n",
    "            response = requests.get('https://www.allrecipes.com/element-api/content-proxy/faceted-searches-load-more?search=%s&page=%d'%(query_term,page_num))\n",
    "      #, headers=headers, params=params, cookies=cookies)\n",
    "            if response.ok:\n",
    "                return response\n",
    "        except:\n",
    "            continue\n",
    "    return response\n",
    "\n",
    "### FILL IN HERE\n",
    "    try:\n",
    "        response_d = response.json()\n",
    "    except:\n",
    "        return {'error':True}\n",
    "    if 'error' in response_d:\n",
    "        print(response_d)\n",
    "### FILL IN HERE\n",
    "\n",
    "def page_data(query,result_count):\n",
    "    results = []\n",
    "\n",
    "    response_length = 24\n",
    "    for page_num in tqdm.tqdm(range(result_count//response_length)):\n",
    "        page_num+=1\n",
    "        response = make_query(query,page_num=page_num)\n",
    "        response_d = check_response(response)\n",
    "\n",
    "        if 'error' in response_d:\n",
    "            break\n",
    "        results.append(response_d['html'])\n",
    "        if response_d['hasNext']==False:\n",
    "            break\n",
    "    return results\n",
    "\n",
    "def scrape_recipes(query) :\n",
    "    response = make_query(query)\n",
    "    response_d = check_response(response)\n",
    "    count = response_d['totalResults']\n",
    "    return page_data(query,count), count\n",
    "\n",
    "##########################################################################################################\n",
    "# Code for formatting dataframe ##########################################################################\n",
    "##########################################################################################################\n",
    "\n",
    "alt_vars = {'recipe_link':('a class=\"card__titleLink manual-link-behavior\"','href'),\n",
    "            'author_link':('a class=\"card__authorNameLink\"','href')}\n",
    "\n",
    "def parse_recipe_item(item, var2tags):\n",
    "    d = {}\n",
    "    for name,tag_attr in var2tags.items():\n",
    "        tag,attr = tag_attr.split(maxsplit=1)\n",
    "        class_name,identifier = attr.strip('\"').split('=\"')\n",
    "        identifier = {class_name:identifier}\n",
    "        val = item.find(tag,attrs=identifier)\n",
    "  # print(name,val)\n",
    "        try:\n",
    "            val = str(val.text.strip())\n",
    "        except:\n",
    "            continue\n",
    "        d[name]= val\n",
    "    for name,(tag_attr,key) in alt_vars.items():\n",
    "        try :\n",
    "            tag,attr = tag_attr.split(maxsplit=1)\n",
    "            class_name,identifier = attr.strip('\"').split('=\"')\n",
    "            identifier = {class_name:identifier}\n",
    "            val = item.find(tag,attrs=identifier)\n",
    "            d[name] = str(val[key])\n",
    "        except :\n",
    "            continue\n",
    "    return d\n",
    "\n",
    "def get_recipes(html, var2tags):\n",
    "    soup = BeautifulSoup(html,features=\"html.parser\") # Beautifulsoup reads html data\n",
    "    item_locs = soup.find_all('div',attrs={'class':'component card card__recipe card__facetedSearchResult'})\n",
    "    data = []\n",
    "    for item in item_locs:\n",
    "        data.append(parse_recipe_item(item, var2tags))\n",
    "# Fill in here"
   ]
  },
  {
   "cell_type": "markdown",
   "metadata": {},
   "source": [
    "## Exercise: Scrape recipes with carrots, fill in the search word below\n",
    "\n",
    " By running the code in the cells below, you get all the recipes from [allrecipes.com](https://www.allrecipes.com/) which contain the search term \"carrots\".\n",
    "Before running the cells, go to allrecipes, search for recipes with carrots, and write down what information you think we will extract (note that we only look at the search results page, and not the actual recipees). \n",
    "\n",
    "Now, fill in the search word below (remember to put it in ' '), and and get running. "
   ]
  },
  {
   "cell_type": "code",
   "execution_count": null,
   "metadata": {},
   "outputs": [],
   "source": [
    "query =  # Fill in\n",
    "\n",
    "#Scrape the recipes\n",
    "results, count = scrape_recipes(query)"
   ]
  },
  {
   "cell_type": "markdown",
   "metadata": {},
   "source": [
    "### Exercise, INSPECT the website and find out how we ask for the summary data\n",
    "Below we make 4 variables: title, rating_count, summary and rating. \n",
    "For three of them the code is complete, but for the 'summary' you need to write the code. To find out what to write, you need to go to the website allrecipes.com, type in the search word carrot. Now you see all the recipes with carrots. Highlight the part you are interested in (the summary) and find out what the the type of variable and the name. Carefully follow the way it is written for the other variables.... \n",
    "<font color=\"orange\" > Tip: First try the inspect for the other variables we are defining, like title, and find out how the html code looks for this. Then try with the summary. "
   ]
  },
  {
   "cell_type": "code",
   "execution_count": null,
   "metadata": {},
   "outputs": [],
   "source": [
    "variables = {'title':'h3 class=\"card__title\"', \n",
    "             'rating_count':'span class=\"card__ratingCount card__metaDetailText\"',\n",
    "             'summary': #fill in,\n",
    "             'rating':'span class=\"review-star-text\"'}\n",
    "\n",
    "# parse_results\n",
    "data = [] \n",
    "for res in tqdm.tqdm(results):\n",
    "    data += get_recipes(res,variables)\n",
    "\n",
    "\n",
    "# load into dataframe\n",
    "# You need to name the dataset below\n",
    "df = pd.DataFrame(data).drop_duplicates()"
   ]
  },
  {
   "cell_type": "code",
   "execution_count": null,
   "metadata": {},
   "outputs": [],
   "source": []
  },
  {
   "cell_type": "markdown",
   "metadata": {},
   "source": [
    "## Congratulations if all went well you have now downloaded some data and put it into a dataframe. \n",
    "### Exercise: Now we want to see how the data looks! To do this, follow these steps: \n",
    "1 Make a \"code\" cell\n",
    "\n",
    "2 Now write: df.head(10) \n",
    "\n",
    "3 Run it"
   ]
  },
  {
   "cell_type": "markdown",
   "metadata": {},
   "source": [
    "### Exercise, how many rows of data?\n",
    "The dataframe has"
   ]
  },
  {
   "cell_type": "code",
   "execution_count": null,
   "metadata": {},
   "outputs": [],
   "source": [
    "# put a dataframe shape function here, and note that you should put 0 in brackets: "
   ]
  },
  {
   "cell_type": "markdown",
   "metadata": {},
   "source": [
    " rows."
   ]
  },
  {
   "cell_type": "markdown",
   "metadata": {},
   "source": [
    "We see from the website that there are xx search hits on \"carrots\". Thus, our dataframe does not contain all search hits from the website. We won't be too concerned with why this happened now, but when you are using scraping for scientific purposes (or any 'serious' purpose), it is very important to look thoroughly into missing data."
   ]
  },
  {
   "cell_type": "markdown",
   "metadata": {},
   "source": [
    "### Exercise: Compare scraped data with manual inspection of website\n",
    "\n",
    "Each row in the dataframe above corresponds to a recipe containing the word \"carrots\". Go to  [allrecipes.com](https://www.allrecipes.com/)  and search for \"carrots\" in the search box. Compare the results on the website with the dataframe above. How has the information on the website been mapped to the rows and columns in the dataframe?"
   ]
  },
  {
   "cell_type": "markdown",
   "metadata": {},
   "source": [
    "## **<font color=\"orange\">STOP - time for a carrot challenge! </font>**\n",
    "\n",
    " **<font color=\"orange\">Finding the different buildings at CSS is pretty confusing - almost as confusing as Python. Now your task is to find building 35, do they sell carrots?. Once you are there: Have a coffee or a carrot </font>**\n",
    " \n",
    " \n",
    " **<font color=\"orange\"> Join your group and go find building 35 - the canteen is in the basement </font>**\n",
    "\n"
   ]
  },
  {
   "cell_type": "markdown",
   "metadata": {},
   "source": [
    "### Exercise: Make a Word Cloud\n",
    "\n",
    "A Word Cloud is a visualization of the most frequent words in a text corpus. The larger words are more frequent. The code below generates a word cloud from all the titles in the scraped data (where a list of so-called stopwords, such as \"the\", \"and\" and \"a\" are removed - we also remove the words \"carrots\" and \"carrot\", since they are very frequent by construction of our data, and therefore they are uninteresting). Run the cells below. Does the resulting word cloud make sense compared with your expectations about recipes with carrots?\n",
    "\n",
    "### EXERCISE: \n",
    "In the code below you need to add a part that converts everything to lowercase!"
   ]
  },
  {
   "cell_type": "code",
   "execution_count": null,
   "metadata": {},
   "outputs": [],
   "source": [
    "#Collect all the titles into one large string\n",
    "title_words='' \n",
    " \n",
    "for val in df.title:\n",
    "     \n",
    "    # typecaste each val to string\n",
    "    val = str(val)\n",
    " \n",
    "    # split the value\n",
    "    tokens = val.split()\n",
    "     \n",
    "    # Converts each token into lowercase\n",
    "    for i in range(len(tokens)):\n",
    "        tokens[i] = # FILL IN HERE\n",
    "     \n",
    "    title_words += \" \".join(tokens)+\" \""
   ]
  },
  {
   "cell_type": "markdown",
   "metadata": {},
   "source": [
    "IN the code below, you need to update the stopwords, because it is redundant to print the word \"carrots\" and \"carrot\" in the wordcloud. Also, you need to put them in \"\" and separate them using a comma, for python to understand that they are strings... Once it is done, run it. "
   ]
  },
  {
   "cell_type": "code",
   "execution_count": null,
   "metadata": {},
   "outputs": [],
   "source": [
    "stopwords = set(STOPWORDS)\n",
    "stopwords.update([]) #Fill in here\n",
    " \n",
    "wordcloud = WordCloud(width = 800, height = 800,\n",
    "                background_color ='white',\n",
    "                stopwords = stopwords,\n",
    "                collocations = False,\n",
    "                min_font_size = 10).generate(title_words)\n",
    " \n",
    "# plot the WordCloud image                      \n",
    "plt.figure(figsize = (6, 6), facecolor = None)\n",
    "plt.imshow(wordcloud)\n",
    "plt.axis(\"off\")\n",
    "plt.tight_layout(pad = 0)\n",
    " \n"
   ]
  },
  {
   "cell_type": "markdown",
   "metadata": {},
   "source": [
    "Do you see anything? No? \n",
    "\n",
    "Oh, perhaps we deleted the last line - try to google what you need to add. \n",
    "\n",
    "Add the missing piece and then re-run the cell"
   ]
  },
  {
   "cell_type": "markdown",
   "metadata": {},
   "source": [
    "## **<font color=\"orange\">STOP - time for a carrot challenge! </font>**\n",
    "\n",
    " **<font color=\"orange\"> There is a nice library with some study rooms nearby: https://kub.ku.dk/biblioteker/samf/ </font>**\n",
    "  **<font color=\"orange\"> Join your group and go find that library - have a look around. Any books on carrots? </font>**\n"
   ]
  },
  {
   "cell_type": "markdown",
   "metadata": {},
   "source": [
    "### Exercise: Make numeric variable from text data\n",
    "\n",
    " The \"rating\" column contains text, as seen below:\n",
    " \n",
    " We want to extract the actual rating from this text and store it as a numeric variable. This is done by the code below:"
   ]
  },
  {
   "cell_type": "code",
   "execution_count": null,
   "metadata": {},
   "outputs": [],
   "source": [
    "df[\"rating\"] = df[\"rating\"].str.replace(\"Rating: \", \"\")\n",
    "df[\"rating\"] = df[\"rating\"].str.replace(\" stars\", \"\")\n",
    "df[\"rating\"] = df[\"rating\"].astype(float)"
   ]
  },
  {
   "cell_type": "markdown",
   "metadata": {},
   "source": [
    " Now the \"rating\" column just contains the rating, have a look:"
   ]
  },
  {
   "cell_type": "code",
   "execution_count": null,
   "metadata": {},
   "outputs": [],
   "source": [
    "df.head()"
   ]
  },
  {
   "cell_type": "markdown",
   "metadata": {},
   "source": [
    "and it is a decimal variable (aka. \"float\"), as seen by the command below:"
   ]
  },
  {
   "cell_type": "code",
   "execution_count": null,
   "metadata": {},
   "outputs": [],
   "source": [
    "df.dtypes"
   ]
  },
  {
   "cell_type": "markdown",
   "metadata": {},
   "source": [
    "This command also reveals that \"rating_count\" is stored as a string. Let's turn it into a decimal variable (a \"float\"). Note that a counting variable (aka. an \"integer\") would make more sense, but some technical details make floats easier to use here. Follow the code from above to turn rating_count into a float variable. "
   ]
  },
  {
   "cell_type": "code",
   "execution_count": null,
   "metadata": {},
   "outputs": [],
   "source": [
    "## make it float here"
   ]
  },
  {
   "cell_type": "code",
   "execution_count": null,
   "metadata": {},
   "outputs": [],
   "source": [
    "# Check if it worked by using the types function"
   ]
  },
  {
   "cell_type": "markdown",
   "metadata": {},
   "source": [
    "### Exercise: see the first few observations using the same command as you previously used. Put it into the cell below"
   ]
  },
  {
   "cell_type": "code",
   "execution_count": null,
   "metadata": {},
   "outputs": [],
   "source": []
  },
  {
   "cell_type": "markdown",
   "metadata": {},
   "source": [
    "### Exercise: Make scatter plot of ratings vs rating counts\n",
    "\n",
    "Now that \"rating\" and \"rating_count\" are stored as numeric variables, we can visualize their distributions with histograms and a scatter plot. "
   ]
  },
  {
   "cell_type": "markdown",
   "metadata": {},
   "source": [
    "### Lets start out with a scatterplot that shows the rating (the stars) against how many times it has been rated"
   ]
  },
  {
   "cell_type": "code",
   "execution_count": null,
   "metadata": {},
   "outputs": [],
   "source": [
    "sns.scatterplot(data=df,x='rating',y='rating_count', alpha=0.5);"
   ]
  },
  {
   "cell_type": "markdown",
   "metadata": {},
   "source": [
    "## Oh wait: perhaps orange is more appropriate - we are talking about carrots after all. \n",
    "### Exercise: Change the color to orange: \n",
    "Write the same as above, but add a color statement (color=xxx). "
   ]
  },
  {
   "cell_type": "code",
   "execution_count": null,
   "metadata": {},
   "outputs": [],
   "source": []
  },
  {
   "cell_type": "markdown",
   "metadata": {},
   "source": [
    "### Well done! You did a nice plot. You deserve a break and a song: "
   ]
  },
  {
   "cell_type": "code",
   "execution_count": null,
   "metadata": {},
   "outputs": [],
   "source": [
    "from IPython.display import YouTubeVideo\n",
    "YouTubeVideo('9OuFbyyt8k0', width=640, height=360)"
   ]
  },
  {
   "cell_type": "markdown",
   "metadata": {},
   "source": [
    "### Let's get back to business: \n",
    "### We can also do more plots in one cell: "
   ]
  },
  {
   "cell_type": "code",
   "execution_count": null,
   "metadata": {},
   "outputs": [],
   "source": [
    "fig, axs = plt.subplots(1,3,figsize=(20,5))\n",
    "sns.histplot(data=df,x='rating',ax=axs[0])\n",
    "sns.histplot(data=df,x='rating_count',ax=axs[1])\n",
    "sns.scatterplot(data=df,x='rating',y='rating_count', alpha=0.5, ax=axs[2]);"
   ]
  },
  {
   "cell_type": "markdown",
   "metadata": {},
   "source": [
    " We see that the histogram for _rating_count_ and the scatterplot are not very informative due to the outliers in the distribution of _rating_count_. Below we visualize the distributions for _rating_ between 3 and 5, and _rating_count_ between 1 and 1000."
   ]
  },
  {
   "cell_type": "code",
   "execution_count": null,
   "metadata": {},
   "outputs": [],
   "source": [
    "df_restricted = df[(3<=df['rating'])&(df['rating_count']<=1000)]\n",
    "fig, axs = plt.subplots(1,3,figsize=(20,5))\n",
    "sns.histplot(data=df_restricted,x='rating',ax=axs[0])\n",
    "sns.histplot(data=df_restricted,x='rating_count',ax=axs[1])\n",
    "sns.scatterplot(data=df_restricted,x='rating',y='rating_count', alpha=0.5, ax=axs[2]);"
   ]
  },
  {
   "cell_type": "markdown",
   "metadata": {},
   "source": [
    "### Exercise: Make a different restriction: You choose how! "
   ]
  },
  {
   "cell_type": "markdown",
   "metadata": {},
   "source": [
    "### What insights about the distributions of _rating_ and _rating_count_ do you get from inspecting the plots above?"
   ]
  },
  {
   "cell_type": "markdown",
   "metadata": {},
   "source": [
    "Write some of your insights in orange in the cell below!"
   ]
  },
  {
   "cell_type": "code",
   "execution_count": null,
   "metadata": {},
   "outputs": [],
   "source": []
  },
  {
   "cell_type": "markdown",
   "metadata": {},
   "source": [
    "## **<font color=\"orange\">STOP - time for a carrot challenge! </font>**\n",
    "\n",
    " **<font color=\"orange\"> Time for a small tour de CSS: Find the Chr. Hansen Auditorium (maybe somebody left some carrots there???), take a look inside (if it is empty) , then take a stroll to the Study Library at CSS, take small break in the courtyard and come back :) </font>**\n"
   ]
  },
  {
   "cell_type": "markdown",
   "metadata": {},
   "source": [
    "### Exercise: Store the data on your machine\n",
    "\n",
    "In the following step we assign a directory path to tell where to save a file. You need to assign your own path. More specifically, you need to exchange \"C:/Users/qtk365/Dropbox/Postdoc/Teaching/Intro-data-sprint/Data/\" with the path to the folder on your computer, where you want to store the data.\n",
    "\n",
    "HINT 1: You can open your computers \"file explorer\" and manually determine where you want to store the data. Now copy the file path into your code below. \n",
    "\n",
    "HINT 2: Beware of forward slashes and double quotes!\n",
    "\n",
    "HINT 3: If you cannot make it work, then just leave the path empty (path = \"\") and the data will be stored in the folder, where your notebook is stored."
   ]
  },
  {
   "cell_type": "code",
   "execution_count": null,
   "metadata": {},
   "outputs": [],
   "source": [
    "path = \"C:/Users/qtk365/Dropbox/Postdoc/Teaching/Intro-data-sprint/Data/\" # CHANGE HERE \n",
    "filename = \"recipes_carrots\"\n",
    "\n",
    "df.to_csv(path+filename+'.csv',index=False)"
   ]
  },
  {
   "cell_type": "markdown",
   "metadata": {},
   "source": [
    "### Go into the folder, where you have stored your data and confirm that the data is in there."
   ]
  },
  {
   "cell_type": "markdown",
   "metadata": {},
   "source": [
    "### Exercise: Choose your own search term (aka. \"query\")\n",
    "\n",
    "Exchange the word \"ham\" in the cell below with another search term, which you choose yourself, such as \"apples\" or \"awesome\" \"danish\" or whatever you want. Then run the cells. Compare the resulting dataframe with the results from manually searching the website."
   ]
  },
  {
   "cell_type": "code",
   "execution_count": null,
   "metadata": {},
   "outputs": [],
   "source": [
    "query = ''\n",
    "\n",
    "#Scrape the recipes\n",
    "results,count = scrape_recipes(query)"
   ]
  },
  {
   "cell_type": "code",
   "execution_count": null,
   "metadata": {},
   "outputs": [],
   "source": [
    "variables = {'title':'h3 class=\"card__title\"', \n",
    "             'rating_count':'span class=\"card__ratingCount card__metaDetailText\"',\n",
    "             'summary':, # Fill in \n",
    "             'rating':} # Fill in\n",
    "\n",
    "# parse_results\n",
    "data = [] \n",
    "for res in tqdm.tqdm(results):\n",
    "  data+= get_recipes(res,variables)\n",
    "\n",
    "# load into dataframe\n",
    "df = pd.DataFrame(data).drop_duplicates()"
   ]
  },
  {
   "cell_type": "code",
   "execution_count": null,
   "metadata": {},
   "outputs": [],
   "source": [
    "#Print the first 10 rows of the dataframe"
   ]
  },
  {
   "cell_type": "code",
   "execution_count": null,
   "metadata": {},
   "outputs": [],
   "source": [
    "#Number of rows in the dataframe\n"
   ]
  },
  {
   "cell_type": "markdown",
   "metadata": {},
   "source": [
    "## Exercise: Make Word Cloud with your new data\n",
    "\n",
    " Execute the cells below to make a word cloud with the data with your own search term. Remember to change \n",
    "\n",
    "> stopwords.update([\"ham\"])\n",
    "\n",
    " in the second cell, such that the stopwords (words that are removed before making the word cloud) make sense compared to your chosen search term."
   ]
  },
  {
   "cell_type": "code",
   "execution_count": null,
   "metadata": {},
   "outputs": [],
   "source": [
    "#Collect all the titles into one large string\n",
    "title_words='' \n",
    " \n",
    "for val in df.title:\n",
    "     \n",
    "    # typecaste each val to string\n",
    "    val = str(val)\n",
    " \n",
    "    # split the value\n",
    "    tokens = val.split()\n",
    "     \n",
    "    # Converts each token into lowercase\n",
    "    for i in range(len(tokens)):\n",
    "        tokens[i] = tokens[i].lower()\n",
    "     \n",
    "    title_words += \" \".join(tokens)+\" \""
   ]
  },
  {
   "cell_type": "code",
   "execution_count": null,
   "metadata": {},
   "outputs": [],
   "source": [
    "stopwords = set(STOPWORDS)\n",
    "stopwords.update([\"\"]) # Fill in here\n",
    " \n",
    "wordcloud = WordCloud(width = 800, height = 800,\n",
    "                background_color ='white',\n",
    "                stopwords = stopwords,\n",
    "                collocations = False,\n",
    "                min_font_size = 10).generate(title_words)\n",
    " \n",
    "# plot the WordCloud image                      \n",
    "plt.figure(figsize = (6, 6), facecolor = None)\n",
    "plt.imshow(wordcloud)\n",
    "plt.axis(\"off\")\n",
    "plt.tight_layout(pad = 0)\n",
    " \n",
    "## Show your cloud... "
   ]
  },
  {
   "cell_type": "markdown",
   "metadata": {},
   "source": [
    "## Exercise: Visualize distributions of _rating_ and _rating_count_ with your new data"
   ]
  },
  {
   "cell_type": "code",
   "execution_count": null,
   "metadata": {},
   "outputs": [],
   "source": [
    "## Fill in this one, to make the variables from float to string. Have a look above if you are in doubt"
   ]
  },
  {
   "cell_type": "code",
   "execution_count": null,
   "metadata": {},
   "outputs": [],
   "source": []
  },
  {
   "cell_type": "markdown",
   "metadata": {},
   "source": [
    "## **<font color=\"orange\">STOP - time for a carrot challenge! </font>**\n",
    "\n",
    " **<font color=\"orange\"> You came a long way. Now it is time to take a break. You can go to Netto and Fakta and buy some carrot-ice cream (??), and then take a walk around the lake! </font>**\n"
   ]
  },
  {
   "cell_type": "code",
   "execution_count": null,
   "metadata": {},
   "outputs": [],
   "source": [
    "fig, axs = plt.subplots(1,3,figsize=(20,5))\n",
    "sns.histplot(data=df,x='rating',ax=axs[0])\n",
    "sns.histplot(data=df,x='rating_count',ax=axs[1])\n",
    "sns.scatterplot(data=df,x='rating',y='rating_count', alpha=0.5, ax=axs[2]);"
   ]
  },
  {
   "cell_type": "code",
   "execution_count": null,
   "metadata": {},
   "outputs": [],
   "source": [
    "df_restricted = df[(3<=df['rating'])&(df['rating_count']<=1000)]\n",
    "fig, axs = plt.subplots(1,3,figsize=(20,5))\n",
    "sns.histplot(data=df_restricted,x='rating',ax=axs[0])\n",
    "sns.histplot(data=df_restricted,x='rating_count',ax=axs[1])\n",
    "sns.scatterplot(data=df_restricted,x='rating',y='rating_count', alpha=0.5, ax=axs[2]);"
   ]
  },
  {
   "cell_type": "markdown",
   "metadata": {},
   "source": [
    "## Store your new data\n",
    "\n",
    "### Change the path name, so it points to folder, where you want to store your data. Change the filename, so it makes sense compared to your search term."
   ]
  },
  {
   "cell_type": "code",
   "execution_count": null,
   "metadata": {},
   "outputs": [],
   "source": [
    "path = \"C:/Users/qtk365/Dropbox/Postdoc/Teaching/Intro-data-sprint/Data/\" # CHANGE HERE!\n",
    "filename = \"recipes_XXX\"\n",
    "\n",
    "df.to_csv(path+filename+'.csv',index=False)"
   ]
  },
  {
   "cell_type": "markdown",
   "metadata": {},
   "source": [
    "### Go to the folder to confirm that your new data is in there."
   ]
  },
  {
   "cell_type": "markdown",
   "metadata": {},
   "source": [
    "## Exercise: Play around. \n",
    "\n",
    "### You can try out more search terms. After you have tried out some different search terms, you can load the data, which you stored for the different terms, and then you can try to use visualizations to compare the different data sets.\n",
    "\n",
    "If you now feel somewhat comfortable working with python, you can try to investigate your data more. For instance, you can try to find out, if there is any relationship between the length of the summary and the rating. If you made it this far: YOU are good, and you should try to write your own code: For example: search for both something healthy and something unhealthy: Put it into the same dataframe, and compare ratings and number of ratings (rating_count): What gets more positive reviews. \n",
    "\n",
    "Another possibility is to look at different cuisines and compare them, e.g \"Thai\" vs. \"French\". What is more popular? and what seems to be more healthy??  \n",
    "\n"
   ]
  },
  {
   "cell_type": "code",
   "execution_count": null,
   "metadata": {},
   "outputs": [],
   "source": []
  }
 ],
 "metadata": {
  "kernelspec": {
   "display_name": "Python 3",
   "language": "python",
   "name": "python3"
  },
  "language_info": {
   "codemirror_mode": {
    "name": "ipython",
    "version": 3
   },
   "file_extension": ".py",
   "mimetype": "text/x-python",
   "name": "python",
   "nbconvert_exporter": "python",
   "pygments_lexer": "ipython3",
   "version": "3.8.5"
  }
 },
 "nbformat": 4,
 "nbformat_minor": 4
}
